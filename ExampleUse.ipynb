{
 "cells": [
  {
   "cell_type": "markdown",
   "metadata": {},
   "source": [
    "GymWrapper"
   ]
  },
  {
   "cell_type": "code",
   "execution_count": 1,
   "metadata": {},
   "outputs": [
    {
     "data": {
      "text/plain": [
       "OpenAIGym"
      ]
     },
     "execution_count": 1,
     "metadata": {},
     "output_type": "execute_result"
    }
   ],
   "source": [
    "include(\"./gymwrapper.jl\")"
   ]
  },
  {
   "cell_type": "code",
   "execution_count": 3,
   "metadata": {},
   "outputs": [],
   "source": [
    "using OpenAIGym"
   ]
  },
  {
   "cell_type": "code",
   "execution_count": null,
   "metadata": {},
   "outputs": [],
   "source": [
    "ENV[\"PYTHON\"] = \"/Users/manvithaponnapati/gymenvaffinity/bin/python\"\n",
    "\n",
    "env = GymEnv(\"Alien-v0\") #Call whatever games you have install CartPole-v0 should be isntalled with your gym isntall\n",
    "env.pyenv[:reset]()\n",
    "for i=1:300\n",
    "    R, T = Episode(env, RandomPolicy())\n",
    "    state = env.state\n",
    "    env.pyenv[:render]()\n",
    "    actions_available = env.actions\n",
    "    done = env.done\n",
    "    println(\"Episode $i finished. Reward: $R, done : $done , state : $state, Actions: $actions\")\n",
    "    env.pyenv[:render]()\n",
    "    if i == 299\n",
    "        Reinforce.reset!(env)\n",
    "        env.pyenv[:render](close=true)\n",
    "    end\n",
    "end\n",
    "\n"
   ]
  },
  {
   "cell_type": "code",
   "execution_count": null,
   "metadata": {},
   "outputs": [],
   "source": []
  },
  {
   "cell_type": "code",
   "execution_count": null,
   "metadata": {},
   "outputs": [],
   "source": []
  }
 ],
 "metadata": {
  "kernelspec": {
   "display_name": "Julia 0.6.1",
   "language": "julia",
   "name": "julia-0.6"
  },
  "language_info": {
   "file_extension": ".jl",
   "mimetype": "application/julia",
   "name": "julia",
   "version": "0.6.1"
  }
 },
 "nbformat": 4,
 "nbformat_minor": 2
}
